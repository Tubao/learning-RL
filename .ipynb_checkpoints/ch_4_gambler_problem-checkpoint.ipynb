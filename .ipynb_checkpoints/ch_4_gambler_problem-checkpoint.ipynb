{
 "cells": [
  {
   "cell_type": "markdown",
   "metadata": {},
   "source": [
    "From Example 4.3 of chapter 4 \n",
    "Gambler’s Problem:\n",
    "A gambler has the opportunity to make bets on the outcomes of a sequence of coin flips. If the coin comes up heads, he wins as many dollars as he has staked on that flip; if it is tails, he loses his stake. The game ends when the gambler wins by reaching his goal of $100, or loses by running out of money. On each flip, the gambler must decide what portion of his capital to stake, in integer numbers of dollars. This problem can be formulated as an undiscounted,episodic, finite MDP. The state is the gambler’s capital, s ∈ {1, 2, . . . , 99} and the actions are stakes,a ∈ {0, 1, . . . , min(s, 100 − s)}. The reward is zero on all transitions except those on which the gambler\n",
    "reaches his goal, when it is +1. The state-value function then gives the probability of winning from each state. A policy is a mapping from levels of capital to stakes. The optimal policy maximizes the probability of reaching the goal. Let p h denote the probability of the coin coming up heads. If p h is known, then the entire problem is known and it can be solved, for instance, by value iteration.\n",
    "\n",
    "Using Value iteration to solve the problem:\n",
    "Initialize array V arbitrarily (e.g., V (s) = 0 for all s ∈ S + )\n",
    "Repeat\n",
    "∆ ← 0\n",
    "For each s ∈ S:\n",
    "v ← V (s)\n",
    "V (s) ← max a s ,r p(s , r |s, a) r + γV (s )\n",
    "∆ ← max(∆, |v − V (s)|)\n",
    "until ∆ < θ (a small positive number)\n",
    "Output a deterministic policy, π ≈ π ∗ , such that\n",
    "π(s) = argmax a s ,r p(s , r |s, a) r + γV (s )"
   ]
  },
  {
   "cell_type": "code",
   "execution_count": null,
   "metadata": {
    "collapsed": true
   },
   "outputs": [],
   "source": []
  }
 ],
 "metadata": {
  "kernelspec": {
   "display_name": "Python 2",
   "language": "python",
   "name": "python2"
  },
  "language_info": {
   "codemirror_mode": {
    "name": "ipython",
    "version": 2
   },
   "file_extension": ".py",
   "mimetype": "text/x-python",
   "name": "python",
   "nbconvert_exporter": "python",
   "pygments_lexer": "ipython2",
   "version": "2.7.6"
  }
 },
 "nbformat": 4,
 "nbformat_minor": 0
}
