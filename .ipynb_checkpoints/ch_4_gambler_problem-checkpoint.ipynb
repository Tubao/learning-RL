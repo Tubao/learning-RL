{
 "cells": [
  {
   "cell_type": "markdown",
   "metadata": {},
   "source": [
    "From Example 4.3 of chapter 4 \n",
    "Gambler’s Problem:\n",
    "A gambler has the opportunity to make bets on the outcomes of a sequence of coin flips. If the coin comes up heads, he wins as many dollars as he has staked on that flip; if it is tails, he loses his stake. The game ends when the gambler wins by reaching his goal of $100, or loses by running out of money. On each flip, the gambler must decide what portion of his capital to stake, in integer numbers of dollars. This problem can be formulated as an undiscounted,episodic, finite MDP. The state is the gambler’s capital, s ∈ {1, 2, . . . , 99} and the actions are stakes,a ∈ {0, 1, . . . , min(s, 100 − s)}. The reward is zero on all transitions except those on which the gambler\n",
    "reaches his goal, when it is +1. The state-value function then gives the probability of winning from each state. A policy is a mapping from levels of capital to stakes. The optimal policy maximizes the probability of reaching the goal. Let p h denote the probability of the coin coming up heads. If p h is known, then the entire problem is known and it can be solved, for instance, by value iteration.\n",
    "\n",
    "Using Value iteration to solve the problem:\n",
    "Initialize array V arbitrarily (e.g., V (s) = 0 for all s ∈ S + )\n",
    "Repeat\n",
    "∆ ← 0\n",
    "For each s ∈ S:\n",
    "v ← V (s)\n",
    "V (s) ← max a s ,r p(s , r |s, a) r + γV (s )\n",
    "∆ ← max(∆, |v − V (s)|)\n",
    "until ∆ < θ (a small positive number)\n",
    "Output a deterministic policy, π ≈ π ∗ , such that\n",
    "π(s) = argmax a s ,r p(s , r |s, a) r + γV (s )"
   ]
  },
  {
   "cell_type": "code",
   "execution_count": 16,
   "metadata": {
    "collapsed": false
   },
   "outputs": [
    {
     "name": "stdout",
     "output_type": "stream",
     "text": [
      "{0: 0, 1: 0, 2: 0, 3: 0, 4: 0, 5: 0, 6: 0, 7: 0, 8: 0, 9: 0, 10: 0, 11: 0, 12: 0, 13: 0, 14: 0, 15: 0, 16: 0, 17: 0, 18: 0, 19: 0, 20: 0, 21: 0, 22: 0, 23: 0, 24: 0, 25: 0, 26: 0, 27: 0, 28: 0, 29: 0, 30: 0, 31: 0, 32: 0, 33: 0, 34: 0, 35: 0, 36: 0, 37: 0, 38: 0, 39: 0, 40: 0, 41: 0, 42: 0, 43: 0, 44: 0, 45: 0, 46: 0, 47: 0, 48: 0, 49: 0, 50: 0, 51: 0, 52: 0, 53: 0, 54: 0, 55: 0, 56: 0, 57: 0, 58: 0, 59: 0, 60: 0, 61: 0, 62: 0, 63: 0, 64: 0, 65: 0, 66: 0, 67: 0, 68: 0, 69: 0, 70: 0, 71: 0, 72: 0, 73: 0, 74: 0, 75: 0, 76: 0, 77: 0, 78: 0, 79: 0, 80: 0, 81: 0, 82: 0, 83: 0, 84: 0, 85: 0, 86: 0, 87: 0, 88: 0, 89: 0, 90: 0, 91: 0, 92: 0, 93: 0, 94: 0, 95: 0, 96: 0, 97: 0, 98: 0, 99: 0, 100: 0}\n",
      "[0, 1, 2, 3, 4, 5, 6, 7, 8, 9, 10, 11, 12, 13, 14, 15, 16, 17, 18, 19, 20, 21, 22, 23, 24, 25, 26, 27, 28, 29, 30, 31, 32, 33, 34, 35, 36, 37, 38, 39, 40, 41, 42, 43, 44, 45, 46, 47, 48, 49, 50, 51, 52, 53, 54, 55, 56, 57, 58, 59, 60, 61, 62, 63, 64, 65, 66, 67, 68, 69, 70, 71, 72, 73, 74, 75, 76, 77, 78, 79, 80, 81, 82, 83, 84, 85, 86, 87, 88, 89, 90, 91, 92, 93, 94, 95, 96, 97, 98, 99, 100]\n",
      "{0: 0, 1: 0.0020656247742628126, 2: 0.005164061939844519, 3: 0.009225471067568635, 4: 0.012910154853195785, 5: 0.017385398980644617, 6: 0.023063677669073458, 7: 0.027814113056216477, 8: 0.03227538713349196, 9: 0.03768507279491931, 10: 0.04346349745300737, 11: 0.05035446997883043, 12: 0.05765919417348764, 13: 0.0652393748645577, 14: 0.0695352826405412, 15: 0.07443123938838679, 16: 0.0806884678337299, 17: 0.0866110436769516, 18: 0.09421268198729828, 19: 0.10314362491873463, 20: 0.10865874363303209, 21: 0.11596662620617099, 22: 0.1258861749512408, 23: 0.13357997572370262, 24: 0.14414798543422158, 25: 0.16000000000000003, 26: 0.16309843716390673, 27: 0.1677460929119175, 28: 0.1738382066014441, 29: 0.1793652322800952, 30: 0.18607809847180445, 31: 0.19459551650409262, 32: 0.20172116958432476, 33: 0.208413080700238, 34: 0.216527609192379, 35: 0.2251952461798193, 36: 0.2355317049707445, 37: 0.24648879126053297, 38: 0.2578590622983441, 39: 0.2643029239608665, 40: 0.2716468590830827, 41: 0.2810327017505949, 42: 0.28991656551542744, 43: 0.3013190229824467, 44: 0.3147154373790065, 45: 0.3229881154498497, 46: 0.3339499393092565, 47: 0.3488292624274039, 48: 0.36036996358555395, 49: 0.3762219781513324, 50: 0.4, 51: 0.40309843716390675, 52: 0.4077460929119175, 53: 0.4138382066014441, 54: 0.4193652322800952, 55: 0.42607809847180445, 56: 0.4345955165040926, 57: 0.4417211695843247, 58: 0.448413080700238, 59: 0.456527609192379, 60: 0.4651952461798193, 61: 0.4755317049707445, 62: 0.48648879126053296, 63: 0.4978590622983441, 64: 0.5043029239608665, 65: 0.5116468590830827, 66: 0.5210327017505949, 67: 0.5299165655154274, 68: 0.5413190229824467, 69: 0.5547154373790064, 70: 0.5629881154498497, 71: 0.5739499393092564, 72: 0.5888292624274039, 73: 0.600369963585554, 74: 0.6162219781513324, 75: 0.64, 76: 0.6446476557471505, 77: 0.6516191393680572, 78: 0.6607573099024555, 79: 0.6690478484201428, 80: 0.6791171477078916, 81: 0.6918932747563198, 82: 0.7025817543765199, 83: 0.712619621050357, 84: 0.724791413789468, 85: 0.7377928692699098, 86: 0.7532975574564423, 87: 0.7697331868907995, 88: 0.7867885934482903, 89: 0.7964543859414733, 90: 0.8074702886247349, 91: 0.8215490526259119, 92: 0.8348748482736807, 93: 0.8519785344738654, 94: 0.8720731560689742, 95: 0.8844821731748409, 96: 0.9009249089642084, 97: 0.9232438936413845, 98: 0.940554945378525, 99: 0.964332967227115, 100: 0}\n"
     ]
    }
   ],
   "source": [
    "def prob(s_1,r,s,a,p):\n",
    "    ret = 0\n",
    "    if s_1==s+a and s_1 ==100 and r==1:\n",
    "        ret = p\n",
    "    if s_1==s-a and r==0:\n",
    "        ret = 1-p\n",
    "    if s_1 == s+a and s_1 < 100 and r==0:\n",
    "        ret = p\n",
    "    return ret\n",
    "\n",
    "#init state_values to 0\n",
    "\n",
    "p = 0.4\n",
    "state_values = {};\n",
    "state_list = []\n",
    "for i in range(0,101):\n",
    "    state_list.append(i)\n",
    "    state_values[i] = 0\n",
    "print state_values\n",
    "print state_list\n",
    "th = 1e-5\n",
    "flag = True\n",
    "for k in range(20):    \n",
    "    delta = 0\n",
    "    for s in state_list:\n",
    "        if s==0 or s==100:\n",
    "            continue\n",
    "        v = state_values[s]\n",
    "        maxa = 0       \n",
    "        for a in range(1+min(s,100-s)):                \n",
    "            qsa = prob(100,1,s,a,p)*(1) + prob(s+a,0,s,a,p)*(state_values[s+a]) + prob(s-a,0,s,a,p)*(state_values[s-a])\n",
    "            \n",
    "            if qsa>maxa:\n",
    "                maxa = qsa\n",
    "        state_values[s] = maxa\n",
    "        delta = max(delta,abs(v - state_values[s]))\n",
    "    if delta<th:\n",
    "        flag = False\n",
    "print state_values\n",
    "\n",
    "    \n"
   ]
  }
 ],
 "metadata": {
  "kernelspec": {
   "display_name": "Python 2",
   "language": "python",
   "name": "python2"
  },
  "language_info": {
   "codemirror_mode": {
    "name": "ipython",
    "version": 2
   },
   "file_extension": ".py",
   "mimetype": "text/x-python",
   "name": "python",
   "nbconvert_exporter": "python",
   "pygments_lexer": "ipython2",
   "version": "2.7.6"
  }
 },
 "nbformat": 4,
 "nbformat_minor": 0
}
